{
 "cells": [
  {
   "cell_type": "markdown",
   "metadata": {},
   "source": [
    "# WITH STITCHING UNIT"
   ]
  },
  {
   "cell_type": "code",
   "execution_count": null,
   "metadata": {},
   "outputs": [],
   "source": [
    "import numpy as np\n",
    "import pandas as pd\n",
    "import matplotlib.pyplot as plt\n",
    "import seaborn as sns"
   ]
  },
  {
   "cell_type": "code",
   "execution_count": null,
   "metadata": {},
   "outputs": [],
   "source": [
    "df=pd.read_csv(\"manufacturing_data.csv\")"
   ]
  },
  {
   "cell_type": "code",
   "execution_count": null,
   "metadata": {},
   "outputs": [],
   "source": [
    "df.shape"
   ]
  },
  {
   "cell_type": "code",
   "execution_count": null,
   "metadata": {},
   "outputs": [],
   "source": [
    "df.head()"
   ]
  },
  {
   "cell_type": "code",
   "execution_count": null,
   "metadata": {},
   "outputs": [],
   "source": [
    "df.isnull().sum()\n"
   ]
  },
  {
   "cell_type": "code",
   "execution_count": null,
   "metadata": {},
   "outputs": [],
   "source": [
    "df.describe()"
   ]
  },
  {
   "cell_type": "code",
   "execution_count": null,
   "metadata": {},
   "outputs": [],
   "source": [
    "df.dtypes"
   ]
  },
  {
   "cell_type": "markdown",
   "metadata": {},
   "source": [
    "# feature selection\n"
   ]
  },
  {
   "cell_type": "code",
   "execution_count": null,
   "metadata": {},
   "outputs": [],
   "source": [
    "df=df.drop(columns=[\"idleMinutes\", \"idleWorkers\",\"recordDate\"])\n",
    "\n",
    "#keeping only stitching unit \n",
    "df=df[df['productionDept']== 'Stitching Unit']\n",
    "df.head(10)"
   ]
  },
  {
   "cell_type": "markdown",
   "metadata": {},
   "source": [
    "# Encoding\n"
   ]
  },
  {
   "cell_type": "code",
   "execution_count": null,
   "metadata": {},
   "outputs": [],
   "source": [
    "from sklearn.preprocessing import LabelEncoder\n",
    "\n",
    "# Create a LabelEncoder object\n",
    "le = LabelEncoder()\n",
    "\n",
    "# List of all categorical columns\n",
    "categorical_cols = ['fiscalQuarter', 'productionDept', 'dayOfWeek', 'team', 'styleChangeCount']\n",
    "\n",
    "# Apply label encoding to each categorical column\n",
    "for col in categorical_cols:\n",
    "    df[col] = le.fit_transform(df[col])\n",
    "\n",
    "# Check the updated dataset\n",
    "df.head()\n"
   ]
  },
  {
   "cell_type": "code",
   "execution_count": null,
   "metadata": {},
   "outputs": [],
   "source": [
    "for col in categorical_cols:\n",
    "    plt.figure(figsize=(6,3))\n",
    "    df[col].fillna(\"Missing\").value_counts().nlargest(12).plot(kind=\"bar\")\n",
    "    plt.title(f\"Counts for {col}\")\n",
    "    plt.tight_layout()\n",
    "    plt.show()"
   ]
  },
  {
   "cell_type": "markdown",
   "metadata": {},
   "source": [
    "#  Scaling and Splitting Data"
   ]
  },
  {
   "cell_type": "code",
   "execution_count": null,
   "metadata": {},
   "outputs": [],
   "source": [
    "from sklearn.preprocessing import StandardScaler\n",
    "from sklearn.preprocessing import LabelEncoder, StandardScaler\n",
    "from sklearn.model_selection import train_test_split\n"
   ]
  },
  {
   "cell_type": "code",
   "execution_count": null,
   "metadata": {},
   "outputs": [],
   "source": [
    "# Separate features and target\n",
    "X = df.drop(columns=['efficiencyScore'])\n",
    "y = df['efficiencyScore']\n",
    "# Scale the Data\n",
    "scaler = StandardScaler()\n",
    "X_scaled = scaler.fit_transform(X)\n",
    "\n",
    "# Split into train and test sets\n",
    "X_train, X_test, y_train, y_test = train_test_split(X_scaled, y, test_size=0.2, random_state=42)\n"
   ]
  },
  {
   "cell_type": "code",
   "execution_count": null,
   "metadata": {},
   "outputs": [],
   "source": [
    "X_train.shape,X_test.shape"
   ]
  },
  {
   "cell_type": "markdown",
   "metadata": {},
   "source": [
    "# Train Models\n"
   ]
  },
  {
   "cell_type": "code",
   "execution_count": null,
   "metadata": {},
   "outputs": [],
   "source": [
    "from sklearn.linear_model import LinearRegression\n",
    "from sklearn.ensemble import RandomForestRegressor, GradientBoostingRegressor\n",
    "from sklearn.metrics import r2_score, mean_squared_error, mean_absolute_error\n"
   ]
  },
  {
   "cell_type": "markdown",
   "metadata": {},
   "source": [
    "Linear Regression"
   ]
  },
  {
   "cell_type": "code",
   "execution_count": null,
   "metadata": {},
   "outputs": [],
   "source": [
    "\n",
    "lr_model = LinearRegression()\n",
    "lr_model.fit(X_train, y_train)\n",
    "\n",
    "y_train_pred_lr = lr_model.predict(X_train)\n",
    "y_test_pred_lr = lr_model.predict(X_test)\n",
    "\n",
    "print(\"Linear Regression Results:\")\n",
    "print(\"Train R²:\", r2_score(y_train, y_train_pred_lr))\n",
    "print(\"Test R²:\", r2_score(y_test, y_test_pred_lr))\n",
    "print(\"Train MAE:\", mean_absolute_error(y_train, y_train_pred_lr))\n",
    "print(\"Test MAE:\", mean_absolute_error(y_test, y_test_pred_lr))\n",
    "print(\"Train RMSE:\", np.sqrt(mean_squared_error(y_train, y_train_pred_lr)))\n",
    "print(\"Test RMSE:\", np.sqrt(mean_squared_error(y_test, y_test_pred_lr)))\n",
    "\n"
   ]
  },
  {
   "cell_type": "code",
   "execution_count": null,
   "metadata": {},
   "outputs": [],
   "source": [
    "plt.figure(figsize=(6,6))\n",
    "plt.scatter(y_test, y_test_pred_lr, alpha=0.6, color='royalblue')\n",
    "plt.xlabel(\"Actual Efficiency Score\")\n",
    "plt.ylabel(\"Predicted Efficiency Score\")\n",
    "plt.title(\"Linear Regression: Actual vs Predicted Efficiency\")\n",
    "plt.plot([y_test.min(), y_test.max()], [y_test.min(), y_test.max()], 'r--')\n",
    "plt.show()\n"
   ]
  },
  {
   "cell_type": "markdown",
   "metadata": {},
   "source": [
    " Random Forest\n"
   ]
  },
  {
   "cell_type": "code",
   "execution_count": null,
   "metadata": {},
   "outputs": [],
   "source": [
    "# Random Forest\n",
    "rf_model = RandomForestRegressor(random_state=42)\n",
    "rf_model.fit(X_train, y_train)\n",
    "\n",
    "y_train_pred_rf = rf_model.predict(X_train)\n",
    "y_test_pred_rf = rf_model.predict(X_test)\n",
    "\n",
    "print(\"\\nRandom Forest Results:\")\n",
    "print(\"Train R²:\", r2_score(y_train, y_train_pred_rf))\n",
    "print(\"Test R²:\", r2_score(y_test, y_test_pred_rf))\n",
    "print(\"Train MAE:\", mean_absolute_error(y_train, y_train_pred_rf))\n",
    "print(\"Test MAE:\", mean_absolute_error(y_test, y_test_pred_rf))\n",
    "print(\"Train RMSE:\", np.sqrt(mean_squared_error(y_train, y_train_pred_rf)))\n",
    "print(\"Test RMSE:\", np.sqrt(mean_squared_error(y_test, y_test_pred_rf)))\n"
   ]
  },
  {
   "cell_type": "code",
   "execution_count": null,
   "metadata": {},
   "outputs": [],
   "source": [
    "plt.figure(figsize=(6,6))\n",
    "plt.scatter(y_test, y_test_pred_rf, alpha=0.6, color='forestgreen')\n",
    "plt.xlabel(\"Actual Efficiency Score\")\n",
    "plt.ylabel(\"Predicted Efficiency Score\")\n",
    "plt.title(\"Random Forest: Actual vs Predicted Efficiency\")\n",
    "plt.plot([y_test.min(), y_test.max()], [y_test.min(), y_test.max()], 'r--')\n",
    "plt.show()\n"
   ]
  },
  {
   "cell_type": "markdown",
   "metadata": {},
   "source": [
    "Gradient Boosting"
   ]
  },
  {
   "cell_type": "code",
   "execution_count": null,
   "metadata": {},
   "outputs": [],
   "source": [
    "\n",
    "gb_model = GradientBoostingRegressor(random_state=42)\n",
    "gb_model.fit(X_train, y_train)\n",
    "\n",
    "y_train_pred_gb = gb_model.predict(X_train)\n",
    "y_test_pred_gb = gb_model.predict(X_test)\n",
    "\n",
    "print(\"\\nGradient Boosting Results:\")\n",
    "print(\"Train R²:\", r2_score(y_train, y_train_pred_gb))\n",
    "print(\"Test R²:\", r2_score(y_test, y_test_pred_gb))\n",
    "print(\"Train MAE:\", mean_absolute_error(y_train, y_train_pred_gb))\n",
    "print(\"Test MAE:\", mean_absolute_error(y_test, y_test_pred_gb))\n",
    "print(\"Train RMSE:\", np.sqrt(mean_squared_error(y_train, y_train_pred_gb)))\n",
    "print(\"Test RMSE:\", np.sqrt(mean_squared_error(y_test, y_test_pred_gb)))\n"
   ]
  },
  {
   "cell_type": "code",
   "execution_count": null,
   "metadata": {},
   "outputs": [],
   "source": [
    "plt.figure(figsize=(6,6))\n",
    "plt.scatter(y_test, y_test_pred_gb, alpha=0.6, color='darkorange')\n",
    "plt.xlabel(\"Actual Efficiency Score\")\n",
    "plt.ylabel(\"Predicted Efficiency Score\")\n",
    "plt.title(\"Gradient Boosting: Actual vs Predicted Efficiency\")\n",
    "plt.plot([y_test.min(), y_test.max()], [y_test.min(), y_test.max()], 'r--')\n",
    "plt.show()\n"
   ]
  },
  {
   "cell_type": "markdown",
   "metadata": {},
   "source": [
    "# Result comparison"
   ]
  },
  {
   "cell_type": "code",
   "execution_count": null,
   "metadata": {},
   "outputs": [],
   "source": [
    "# results_df = pd.DataFrame({\n",
    "#     \"Model\": [\"Linear Regression\", \"Random Forest\", \"Gradient Boosting\"],\n",
    "#     \"R2 Score\": [r2_lr, r2_rf, r2_gb],\n",
    "#     \"MSE\": [mse_lr, mse_rf, mse_gb]\n",
    "# })\n",
    "\n",
    "# print(\"\\nComparison of models:\")\n",
    "# print(results_df)\n",
    "\n"
   ]
  },
  {
   "cell_type": "code",
   "execution_count": null,
   "metadata": {},
   "outputs": [],
   "source": [
    "\n",
    "# Store R2 scores for comparison\n",
    "r2_lr = r2_score(y_test, y_test_pred_lr)\n",
    "r2_rf = r2_score(y_test, y_test_pred_rf)\n",
    "r2_gb = r2_score(y_test, y_test_pred_gb)\n",
    "\n",
    "results_df = pd.DataFrame({\n",
    "    \"Model\": [\"Linear Regression\", \"Random Forest\", \"Gradient Boosting\"],\n",
    "    \"R2 Score\": [r2_lr, r2_rf, r2_gb]\n",
    "})\n",
    "\n",
    "print(\"\\nModel Comparison:\")\n",
    "print(results_df)\n",
    "\n",
    "# Plot comparison\n",
    "results_df.set_index(\"Model\")[\"R2 Score\"].plot(\n",
    "    kind=\"bar\", color=[\"royalblue\", \"green\", \"orange\"], figsize=(6,4), title=\"Model Comparison (R2 Score)\"\n",
    ")\n",
    "plt.ylabel(\"R2 Score\")\n",
    "plt.show()\n"
   ]
  }
 ],
 "metadata": {
  "kernelspec": {
   "display_name": "Python 3",
   "language": "python",
   "name": "python3"
  },
  "language_info": {
   "codemirror_mode": {
    "name": "ipython",
    "version": 3
   },
   "file_extension": ".py",
   "mimetype": "text/x-python",
   "name": "python",
   "nbconvert_exporter": "python",
   "pygments_lexer": "ipython3",
   "version": "3.13.7"
  }
 },
 "nbformat": 4,
 "nbformat_minor": 2
}
